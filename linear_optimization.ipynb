{
  "nbformat": 4,
  "nbformat_minor": 0,
  "metadata": {
    "colab": {
      "name": "linear optimization.ipynb",
      "provenance": [],
      "authorship_tag": "ABX9TyMQGggIDeaXXLCIMhby8w2q",
      "include_colab_link": true
    },
    "kernelspec": {
      "name": "python3",
      "display_name": "Python 3"
    },
    "language_info": {
      "name": "python"
    }
  },
  "cells": [
    {
      "cell_type": "markdown",
      "metadata": {
        "id": "view-in-github",
        "colab_type": "text"
      },
      "source": [
        "<a href=\"https://colab.research.google.com/github/19K41A0503/AI/blob/main/linear_optimization.ipynb\" target=\"_parent\"><img src=\"https://colab.research.google.com/assets/colab-badge.svg\" alt=\"Open In Colab\"/></a>"
      ]
    },
    {
      "cell_type": "code",
      "metadata": {
        "colab": {
          "base_uri": "https://localhost:8080/"
        },
        "id": "2NK2NAjPKVF4",
        "outputId": "2ccafb4f-b83a-4faf-f2d3-bd543a18cece"
      },
      "source": [
        "from scipy.optimize import linprog\n",
        "obj = [-50,-120]\n",
        "A_ieq = [[7000,2000],[10,30],[1,1]]\n",
        "B_ieq = [700000,1200,110]\n",
        "boundary = [(0, float(\"inf\")),(0, float(\"inf\"))]\n",
        "opt = linprog(c=obj, A_ub=A_ieq, b_ub=B_ieq, A_eq=None, b_eq=None, bounds=boundary, method=\"Simplex\")\n",
        "opt.x\n",
        "print(\"The total area for growing wheat = \",round(opt.x[0]))\n",
        "print(\"The total area for growing barley = \",round(opt.x[1]))\n",
        "profit = round(opt.x[0]*50 + opt.x[1]*120)\n",
        "print(\"Totalprofit is = \",profit)"
      ],
      "execution_count": 3,
      "outputs": [
        {
          "output_type": "stream",
          "text": [
            "The total area for growing wheat =  98\n",
            "The total area for growing barley =  7\n",
            "Totalprofit is =  5779\n"
          ],
          "name": "stdout"
        }
      ]
    }
  ]
}